{
 "cells": [
  {
   "cell_type": "markdown",
   "metadata": {
    "id": "1JPw8SHpesfz"
   },
   "source": [
    "# Python - Clases y Listas\n",
    "## Repaso de declaración de variables tipo listas, tuplas y funciones.\n",
    "Analítica de datos - 2024 - I\n",
    "\n",
    "**Profesores:** Diego F. Collazos H. - Santiago Pineda"
   ]
  },
  {
   "cell_type": "code",
   "execution_count": 1,
   "metadata": {
    "id": "hu7tksn9CZ3a"
   },
   "outputs": [],
   "source": [
    "lista=[]\n",
    "tupla=()## INMUTABLES\n",
    "diccionario={}"
   ]
  },
  {
   "cell_type": "code",
   "execution_count": 2,
   "metadata": {
    "id": "n8Sb_yrXRRjT"
   },
   "outputs": [
    {
     "data": {
      "text/plain": [
       "(2, 3, 4, 5)"
      ]
     },
     "execution_count": 2,
     "metadata": {},
     "output_type": "execute_result"
    }
   ],
   "source": [
    "tupla=(2,3,4,5)\n",
    "tupla"
   ]
  },
  {
   "cell_type": "code",
   "execution_count": 5,
   "metadata": {
    "id": "iKYz6ZrVRYgM"
   },
   "outputs": [],
   "source": [
    "lista=[]\n",
    "lista.append(2)"
   ]
  },
  {
   "cell_type": "code",
   "execution_count": 6,
   "metadata": {
    "id": "Jwm3rrjjjxzL"
   },
   "outputs": [
    {
     "data": {
      "text/plain": [
       "[2]"
      ]
     },
     "execution_count": 6,
     "metadata": {},
     "output_type": "execute_result"
    }
   ],
   "source": [
    "lista"
   ]
  },
  {
   "cell_type": "code",
   "execution_count": 7,
   "metadata": {
    "id": "OYAFtjXURmsr"
   },
   "outputs": [],
   "source": [
    "lista.remove(2)"
   ]
  },
  {
   "cell_type": "code",
   "execution_count": 8,
   "metadata": {
    "id": "Op7DM-rTRxsd"
   },
   "outputs": [],
   "source": [
    "from numpy import *\n",
    "arreglo=({1,2,3})"
   ]
  },
  {
   "cell_type": "code",
   "execution_count": 9,
   "metadata": {
    "id": "VFjakkOJR9LT"
   },
   "outputs": [
    {
     "data": {
      "text/plain": [
       "1"
      ]
     },
     "execution_count": 9,
     "metadata": {},
     "output_type": "execute_result"
    }
   ],
   "source": [
    "arreglo.pop()"
   ]
  },
  {
   "cell_type": "code",
   "execution_count": 10,
   "metadata": {},
   "outputs": [
    {
     "data": {
      "text/plain": [
       "{2, 3}"
      ]
     },
     "execution_count": 10,
     "metadata": {},
     "output_type": "execute_result"
    }
   ],
   "source": [
    "arreglo"
   ]
  },
  {
   "cell_type": "code",
   "execution_count": 11,
   "metadata": {
    "id": "OKijNu76SQGk"
   },
   "outputs": [
    {
     "data": {
      "text/plain": [
       "2"
      ]
     },
     "execution_count": 11,
     "metadata": {},
     "output_type": "execute_result"
    }
   ],
   "source": [
    "matriz=[[1,2,3],[2,3,4]]\n",
    "len(matriz)"
   ]
  },
  {
   "cell_type": "code",
   "execution_count": 12,
   "metadata": {
    "id": "qjES4f7IShqz"
   },
   "outputs": [
    {
     "data": {
      "text/plain": [
       "array([[0., 2.]])"
      ]
     },
     "execution_count": 12,
     "metadata": {},
     "output_type": "execute_result"
    }
   ],
   "source": [
    "import numpy as np\n",
    "arreglo=np.zeros([1,2])\n",
    "arreglo[0][1]=2\n",
    "arreglo"
   ]
  },
  {
   "cell_type": "code",
   "execution_count": 13,
   "metadata": {
    "id": "KlHNxXs3RhSr"
   },
   "outputs": [],
   "source": [
    "def function():\n",
    "  pass\n",
    "\n",
    "function()"
   ]
  },
  {
   "cell_type": "code",
   "execution_count": 14,
   "metadata": {
    "id": "2Zz9XKN5ChwB"
   },
   "outputs": [
    {
     "data": {
      "text/plain": [
       "array([3, 2, 3, 4])"
      ]
     },
     "execution_count": 14,
     "metadata": {},
     "output_type": "execute_result"
    }
   ],
   "source": [
    "import numpy as np\n",
    "arreglo=np.array([1,2,3,4])\n",
    "arreglo[0]=3\n",
    "arreglo"
   ]
  },
  {
   "cell_type": "code",
   "execution_count": 15,
   "metadata": {
    "id": "JV4t-5-9Daxw"
   },
   "outputs": [
    {
     "data": {
      "text/plain": [
       "[3]"
      ]
     },
     "execution_count": 15,
     "metadata": {},
     "output_type": "execute_result"
    }
   ],
   "source": [
    "lista.append(3)\n",
    "lista"
   ]
  },
  {
   "cell_type": "code",
   "execution_count": 16,
   "metadata": {
    "id": "wvJj1wfHDyzm"
   },
   "outputs": [],
   "source": [
    "diccionario={\"IRONMAN\":2500,\"PENSION\":200000}\n"
   ]
  },
  {
   "cell_type": "code",
   "execution_count": 17,
   "metadata": {
    "id": "5cPSKADbEbJ1"
   },
   "outputs": [
    {
     "data": {
      "text/plain": [
       "2500"
      ]
     },
     "execution_count": 17,
     "metadata": {},
     "output_type": "execute_result"
    }
   ],
   "source": [
    "diccionario[\"IRONMAN\"]"
   ]
  },
  {
   "cell_type": "code",
   "execution_count": 18,
   "metadata": {
    "id": "eUa2XannTUHt"
   },
   "outputs": [],
   "source": [
    "diccionario[\"llave_1\"]=2"
   ]
  },
  {
   "cell_type": "code",
   "execution_count": 19,
   "metadata": {
    "id": "Y8xHM_0pTcft"
   },
   "outputs": [
    {
     "data": {
      "text/plain": [
       "{'IRONMAN': 2500, 'PENSION': 200000, 'llave_1': 2}"
      ]
     },
     "execution_count": 19,
     "metadata": {},
     "output_type": "execute_result"
    }
   ],
   "source": [
    "diccionario"
   ]
  },
  {
   "cell_type": "code",
   "execution_count": null,
   "metadata": {
    "id": "4HCeFAWBEnI0"
   },
   "outputs": [],
   "source": [
    "lista=[1,1.5,\"2\"]\n",
    "lista"
   ]
  },
  {
   "cell_type": "code",
   "execution_count": null,
   "metadata": {
    "id": "bj-qcQpnEyIM"
   },
   "outputs": [],
   "source": [
    "arreglo=np.zeros(5)"
   ]
  },
  {
   "cell_type": "code",
   "execution_count": null,
   "metadata": {
    "id": "586iFiMmFaJc"
   },
   "outputs": [],
   "source": [
    "diccionario[\"IRONMAN\"]=\"hola\"\n",
    "diccionario"
   ]
  },
  {
   "cell_type": "code",
   "execution_count": null,
   "metadata": {
    "id": "ZyS3uJrtFjpE"
   },
   "outputs": [],
   "source": [
    "lista=[1,2,3,4,5]\n",
    "lista=lista*2"
   ]
  },
  {
   "cell_type": "code",
   "execution_count": null,
   "metadata": {
    "id": "pzQGui90F0oh"
   },
   "outputs": [],
   "source": [
    "lista"
   ]
  },
  {
   "cell_type": "code",
   "execution_count": null,
   "metadata": {
    "id": "UDwiU1xqF4NC"
   },
   "outputs": [],
   "source": [
    "arreglo=np.array([1,2,3,4,5])\n",
    "arreglo=arreglo*2\n",
    "arreglo"
   ]
  },
  {
   "cell_type": "code",
   "execution_count": null,
   "metadata": {
    "id": "0Yo80y63GKAy"
   },
   "outputs": [],
   "source": [
    "lista=[1,2,3,4]\n",
    "lista2=[2,3,4,5]\n",
    "MATRIZ=[lista,lista2]\n",
    "MATRIZ"
   ]
  },
  {
   "cell_type": "code",
   "execution_count": null,
   "metadata": {
    "id": "wpaSUFJYGYhx"
   },
   "outputs": [],
   "source": [
    "arreglo1=np.array([1,2,3,4])\n",
    "arreglo2=np.array([1,2,3,5])\n",
    "MATRIZ=np.array([arreglo1,arreglo2])\n",
    "MATRIZ"
   ]
  },
  {
   "cell_type": "code",
   "execution_count": null,
   "metadata": {
    "id": "h7hrp4M1GmZI"
   },
   "outputs": [],
   "source": [
    "##SHAPE\n",
    "## LEN\n",
    "lista=[1,2,3,4]\n",
    "print(len(lista))\n",
    "lista=[1,2,3,4]\n",
    "lista2=[2,3,4,5]\n",
    "MATRIZ=[lista,lista2]\n",
    "MATRIZ\n",
    "print(MATRIZ.shape)"
   ]
  },
  {
   "cell_type": "code",
   "execution_count": null,
   "metadata": {
    "id": "zK0x-iZmG6AI"
   },
   "outputs": [],
   "source": [
    "##SHAPE\n",
    "arreglo1=np.array([1,2,3,4])\n",
    "arreglo2=np.array([1,2,3,5])\n",
    "MATRIZ=np.array([arreglo1,arreglo2])\n",
    "tensor=np.array([MATRIZ,MATRIZ])\n",
    "tensor.ndim"
   ]
  },
  {
   "cell_type": "code",
   "execution_count": null,
   "metadata": {
    "id": "s09-uOELHYU_"
   },
   "outputs": [],
   "source": []
  },
  {
   "cell_type": "markdown",
   "metadata": {
    "id": "Ls938rOiIgxl"
   },
   "source": [
    "##POO"
   ]
  },
  {
   "cell_type": "code",
   "execution_count": null,
   "metadata": {
    "id": "SBJ2UW4oIh8N"
   },
   "outputs": [],
   "source": [
    "type(np.array([1,2,3,4]))"
   ]
  },
  {
   "cell_type": "code",
   "execution_count": null,
   "metadata": {
    "id": "9yEOFhz3JkmJ"
   },
   "outputs": [],
   "source": [
    "class Persona():\n",
    "  def __init__(self,nombre,edad):\n",
    "    self.nombre=nombre\n",
    "    self.edad=edad\n",
    "  def imprimirNombre(self):\n",
    "    print(self.nombre)"
   ]
  },
  {
   "cell_type": "code",
   "execution_count": null,
   "metadata": {
    "id": "MYBU-suHJtmZ"
   },
   "outputs": [],
   "source": [
    "hombre=Persona(\"Juan\",20)\n",
    "hombre.imprimirNombre()"
   ]
  },
  {
   "cell_type": "code",
   "execution_count": null,
   "metadata": {
    "id": "AC7hLN8c4tps"
   },
   "outputs": [],
   "source": [
    "class person():\n",
    "  def __init__(self,nombre,edad,cedula):\n"
   ]
  },
  {
   "cell_type": "code",
   "execution_count": null,
   "metadata": {
    "id": "TKN53JydKPFq"
   },
   "outputs": [],
   "source": [
    "hombre.imprimirNombre()"
   ]
  },
  {
   "cell_type": "code",
   "execution_count": null,
   "metadata": {
    "id": "yabc7zhWKRjR"
   },
   "outputs": [],
   "source": [
    "class Estudiante(Persona):\n",
    "\n",
    "   def __init__(self,nombre,edad,carrera):\n",
    "     super().__init__(nombre,edad)\n",
    "     self.carrera=carrera"
   ]
  },
  {
   "cell_type": "code",
   "execution_count": null,
   "metadata": {
    "id": "lCUEvRrQVHhu"
   },
   "outputs": [],
   "source": [
    "nombre = str(input(\"Ingrese su nombre\"))\n",
    "joven= Estudiante(nombre,25,\"ingenieria electronica\")\n",
    "joven.imprimirNombre()"
   ]
  },
  {
   "cell_type": "code",
   "execution_count": null,
   "metadata": {
    "id": "deF7HxNsL1cG"
   },
   "outputs": [],
   "source": [
    "Alumno=Estudiante(\"Juan\",20,\"IngElectronica\")"
   ]
  },
  {
   "cell_type": "code",
   "execution_count": null,
   "metadata": {
    "id": "DDLk6jMIL97l"
   },
   "outputs": [],
   "source": [
    "def suma_salario(salario):\n",
    "        suma = 0\n",
    "\n",
    "        for numero in salario:\n",
    "          suma += numero\n",
    "\n",
    "        return suma"
   ]
  },
  {
   "cell_type": "markdown",
   "metadata": {
    "id": "QWPHOYk4AoVy"
   },
   "source": [
    "Escribir un programa que permita procesar datos de pasajeros de viaje en una lista de tuplas con la siguiente forma: (nombre, dni, destino). Ejemplo: [(\"Manuel Juarez\", 19823451, \"Liverpool\"), (\"Silvana Paredes\", 22709128, \"Buenos Aires\"), (\"Rosa Ortiz\", 15123978, \"Glasgow\"), (\"Luciana Hernandez\", 38981374, \"Lisboa\")] Además, en otra lista de tuplas se almacenan los datos de cada ciudad y el país al que pertenecen. Ejemplo: [(\"Buenos Aires\",\"Argentina\"), (\"Glasgow\",\"Escocia\"), (\"Lisboa\", \"Portugal\"), (\"Liverpool\",\"Inglaterra\"), (\"Madrid\",\"España\")] Hacer un menú iterativo que permita al usuario realizar las siguientes operaciones:\n",
    "-Agregar pasajeros a la lista de viajeros.\n",
    "-Agregar ciudades a la lista de ciudades.\n",
    "-Dado el DNI de un pasajero, ver a qué ciudad viaja.\n",
    "-Dada una ciudad, mostrar la cantidad de pasajeros que viajan a esa ciudad.\n",
    "-Dado el DNI de un pasajero, ver a qué país viaja.\n",
    "-Dado un país, mostrar cuántos pasajeros viajan a ese país.\n",
    "-Salir del programa.\n"
   ]
  },
  {
   "cell_type": "code",
   "execution_count": 2,
   "metadata": {
    "id": "q-xIxrDPH3qs"
   },
   "outputs": [],
   "source": [
    "class Calculator:\n",
    "    def __init__(self, num1, num2):\n",
    "        self.num1 = num1\n",
    "        self.num2 = num2\n",
    "        \n",
    "    def Csum(self, num1=None, num2=None):\n",
    "        if num1 != None and num2 != None:\n",
    "            return num1 + num2\n",
    "        \n",
    "        elif num1 != None and num2 == None:\n",
    "            return num1 + self.num2\n",
    "        \n",
    "        elif num1 == None and num2 != None:\n",
    "            return self.num1 + num2\n",
    "        \n",
    "        return self.num1 + self.num2\n",
    "        \n",
    "    def Csus(self, num1=None, num2=None):\n",
    "        if num1 != None and num2 != None:\n",
    "            return num1 - num2\n",
    "        \n",
    "        elif num1 != None and num2 == None:\n",
    "            return num1 - self.num2\n",
    "        \n",
    "        elif num1 == None and num2 != None:\n",
    "            return self.num1 - num2\n",
    "        \n",
    "        return self.num1 - self.num2\n",
    "    \n",
    "    def Cmult(self, num1=None, num2=None):\n",
    "        if num1 != None and num2 != None:\n",
    "            return num1 * num2\n",
    "        \n",
    "        elif num1 != None and num2 == None:\n",
    "            return num1 * self.num2\n",
    "        \n",
    "        elif num1 == None and num2 != None:\n",
    "            return self.num1 * num2\n",
    "        \n",
    "        return self.num1 * self.num2\n",
    "    \n",
    "    def Cdiv(self, num1=None, num2=None):\n",
    "        if num1 != None and num2 != None:\n",
    "            return num1 / num2\n",
    "        \n",
    "        elif num1 != None and num2 == None:\n",
    "            return num1 / self.num2\n",
    "        \n",
    "        elif num1 == None and num2 != None:\n",
    "            return self.num1 / num2\n",
    "        \n",
    "        return self.num1 / self.num2"
   ]
  },
  {
   "cell_type": "code",
   "execution_count": 15,
   "metadata": {},
   "outputs": [],
   "source": [
    "class Calculator_Adv(Calculator):\n",
    "    def __init__(self, num1, num2):\n",
    "        super().__init__(num1, num2)\n",
    "        \n",
    "    def Cpot(self, num=None, pot=None):\n",
    "        if num != None and pot != None:\n",
    "            return num ** pot\n",
    "        \n",
    "        elif num != None and pot == None:\n",
    "            return num ** self.num2\n",
    "        \n",
    "        elif num == None and pot != None:\n",
    "            return self.num1 ** pot\n",
    "        \n",
    "        return self.num1 ** self.num2\n",
    "    \n",
    "    def Clog(self, num=None, base=None):\n",
    "        import math\n",
    "        if num != None and base != None:\n",
    "            return math.log(num, base)\n",
    "        \n",
    "        elif num != None and base == None:\n",
    "            return math.log(num, self.num2)\n",
    "        \n",
    "        elif num == None and base != None:\n",
    "            return math.log(self.num1, base)\n",
    "        \n",
    "        return math.log(self.num1, self.num2)"
   ]
  }
 ],
 "metadata": {
  "colab": {
   "provenance": []
  },
  "kernelspec": {
   "display_name": "Python 3 (ipykernel)",
   "language": "python",
   "name": "python3"
  },
  "language_info": {
   "codemirror_mode": {
    "name": "ipython",
    "version": 3
   },
   "file_extension": ".py",
   "mimetype": "text/x-python",
   "name": "python",
   "nbconvert_exporter": "python",
   "pygments_lexer": "ipython3",
   "version": "3.11.5"
  }
 },
 "nbformat": 4,
 "nbformat_minor": 1
}
